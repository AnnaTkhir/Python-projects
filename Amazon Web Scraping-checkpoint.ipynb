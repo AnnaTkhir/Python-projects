{
 "cells": [
  {
   "cell_type": "code",
   "execution_count": null,
   "id": "ec495122",
   "metadata": {
    "scrolled": false
   },
   "outputs": [],
   "source": [
    "pip install bs4\n"
   ]
  },
  {
   "cell_type": "code",
   "execution_count": null,
   "id": "a6cbe531",
   "metadata": {},
   "outputs": [],
   "source": [
    "pip install requests"
   ]
  },
  {
   "cell_type": "code",
   "execution_count": 5,
   "id": "41c440b9",
   "metadata": {},
   "outputs": [],
   "source": [
    "# import libraries \n",
    "\n",
    "from bs4 import BeautifulSoup\n",
    "import requests\n",
    "import time\n",
    "import datetime\n",
    "\n",
    "import smtplib"
   ]
  },
  {
   "cell_type": "code",
   "execution_count": null,
   "id": "ce442894",
   "metadata": {},
   "outputs": [],
   "source": [
    "# Connect to Amazon website and pull in data\n",
    "URL = 'https://www.amazon.de/Srhythm-NC35-Schnellladung-CVC8-0-Mikrofon-Sprachanruf-Minzgr%C3%BCn/dp/B083S87PZT/ref=sr_1_7_sspa?crid=22RTX1FIKH3RT&keywords=kopfh%C3%B6rer%2Bkabellos&qid=1644504213&sprefix=kopf%2Caps%2C158&sr=8-7-spons&spLa=ZW5jcnlwdGVkUXVhbGlmaWVyPUExWDU0N0xRQ0RBVk1ZJmVuY3J5cHRlZElkPUEwNTIzNTI5M0tSUTE2RFlYT1lQMSZlbmNyeXB0ZWRBZElkPUEwNjQwMTg4MlYyMldaRTQyNE5KRCZ3aWRnZXROYW1lPXNwX210ZiZhY3Rpb249Y2xpY2tSZWRpcmVjdCZkb05vdExvZ0NsaWNrPXRydWU&th=1'\n",
    "# to find your user-agent go to https://httpbin.org/get\n",
    "headers = {\"User-Agent\": \"Mozilla/5.0 (Windows NT 10.0; Win64; x64; rv:97.0) Gecko/20100101 Firefox/97.0\", \"Accept-Encoding\":\"gzip, deflate\", \"Accept\":\"text/html,application/xhtml+xml,application/xml;q=0.9,*/*;q=0.8\", \"DNT\":\"1\",\"Connection\":\"close\", \"Upgrade-Insecure-Requests\":\"1\"}\n",
    "\n",
    "page = requests.get(URL, headers=headers)\n",
    "\n",
    "soup1 = BeautifulSoup(page.content, \"html.parser\")\n",
    "\n",
    "soup2 = BeautifulSoup(soup1.prettify(), \"html.parser\")\n",
    "\n",
    "title = soup2.find(id='title').get_text()\n",
    "reviews = soup2.find(id='averageCustomerReviews').get_text()\n",
    "\n",
    "print(title)\n",
    "print(reviews)\n",
    "\n",
    "\n"
   ]
  },
  {
   "cell_type": "code",
   "execution_count": 28,
   "id": "f5b4e82a",
   "metadata": {},
   "outputs": [
    {
     "name": "stdout",
     "output_type": "stream",
     "text": [
      "Srhythm Active Noise Cancelling Kopfhörer,Faltbar,Kabellos,Bluetooth 5.0,Srhythm NC35 Over-Ear mit USB-C Schnellladung,CVC8.0-Mikrofon,Sprachanruf,50+ Std. für iOS Android TV PC (Orange Korallen)\n",
      "4,3 von 5 \n"
     ]
    }
   ],
   "source": [
    "# Clean up the data a little bit\n",
    "\n",
    "title = title.strip()\n",
    "reviews = reviews.strip()[0:10]\n",
    "\n",
    "print(title)\n",
    "print(reviews)"
   ]
  },
  {
   "cell_type": "code",
   "execution_count": 29,
   "id": "4652cc21",
   "metadata": {},
   "outputs": [
    {
     "name": "stdout",
     "output_type": "stream",
     "text": [
      "2022-02-10\n"
     ]
    }
   ],
   "source": [
    "import datetime\n",
    "\n",
    "today = datetime.date.today()\n",
    "\n",
    "print(today)"
   ]
  },
  {
   "cell_type": "code",
   "execution_count": 30,
   "id": "46a145d9",
   "metadata": {},
   "outputs": [],
   "source": [
    "# Create CSV and write headers and data into the file\n",
    "\n",
    "import csv \n",
    "\n",
    "header = ['Title', 'Rating', 'Date']\n",
    "data = [title, reviews, today]\n",
    "\n",
    "\n",
    "with open('AmazonWebScraperDataset.csv', 'w', newline='', encoding='UTF8') as f:\n",
    "    writer = csv.writer(f)\n",
    "    writer.writerow(header)\n",
    "    writer.writerow(data)"
   ]
  },
  {
   "cell_type": "code",
   "execution_count": 33,
   "id": "feec4d87",
   "metadata": {},
   "outputs": [
    {
     "name": "stdout",
     "output_type": "stream",
     "text": [
      "                                               Title      Rating        Date\n",
      "0  Srhythm Active Noise Cancelling Kopfhörer,Falt...  4,3 von 5   2022-02-10\n",
      "1  Srhythm Active Noise Cancelling Kopfhörer,Falt...  4,3 von 5   2022-02-10\n"
     ]
    }
   ],
   "source": [
    "import pandas as pd\n",
    "\n",
    "df = pd.read_csv(r'C:\\Users\\tkhir\\AmazonWebScraperDataset.csv')\n",
    "\n",
    "print(df)"
   ]
  },
  {
   "cell_type": "code",
   "execution_count": 32,
   "id": "9c0124fb",
   "metadata": {},
   "outputs": [],
   "source": [
    "#Now we are appending data to the csv\n",
    "\n",
    "with open('AmazonWebScraperDataset.csv', 'a+', newline='', encoding='UTF8') as f:\n",
    "    writer = csv.writer(f)\n",
    "    writer.writerow(data)"
   ]
  },
  {
   "cell_type": "code",
   "execution_count": 34,
   "id": "f6286aa3",
   "metadata": {},
   "outputs": [],
   "source": [
    "#write a function\n",
    "\n",
    "\n",
    "def check_product():\n",
    "    \n",
    "    URL = 'https://www.amazon.de/Srhythm-NC35-Schnellladung-CVC8-0-Mikrofon-Sprachanruf-Minzgr%C3%BCn/dp/B083S87PZT/ref=sr_1_7_sspa?crid=22RTX1FIKH3RT&keywords=kopfh%C3%B6rer%2Bkabellos&qid=1644504213&sprefix=kopf%2Caps%2C158&sr=8-7-spons&spLa=ZW5jcnlwdGVkUXVhbGlmaWVyPUExWDU0N0xRQ0RBVk1ZJmVuY3J5cHRlZElkPUEwNTIzNTI5M0tSUTE2RFlYT1lQMSZlbmNyeXB0ZWRBZElkPUEwNjQwMTg4MlYyMldaRTQyNE5KRCZ3aWRnZXROYW1lPXNwX210ZiZhY3Rpb249Y2xpY2tSZWRpcmVjdCZkb05vdExvZ0NsaWNrPXRydWU&th=1'\n",
    "\n",
    "    headers = {\"User-Agent\": \"Mozilla/5.0 (Windows NT 10.0; Win64; x64; rv:97.0) Gecko/20100101 Firefox/97.0\", \"Accept-Encoding\":\"gzip, deflate\", \"Accept\":\"text/html,application/xhtml+xml,application/xml;q=0.9,*/*;q=0.8\", \"DNT\":\"1\",\"Connection\":\"close\", \"Upgrade-Insecure-Requests\":\"1\"}\n",
    "\n",
    "    page = requests.get(URL, headers=headers)\n",
    "\n",
    "    soup1 = BeautifulSoup(page.content, \"html.parser\")\n",
    "\n",
    "    soup2 = BeautifulSoup(soup1.prettify(), \"html.parser\")\n",
    "\n",
    "    title = soup2.find(id='title').get_text()\n",
    "    reviews = soup2.find(id='averageCustomerReviews').get_text()\n",
    "\n",
    "    title = title.strip()\n",
    "    reviews = reviews.strip()[0:10]\n",
    "    \n",
    "    import datetime\n",
    "\n",
    "    today = datetime.date.today()\n",
    "    \n",
    "    import csv \n",
    "\n",
    "    header = ['Title', 'Rating', 'Date']\n",
    "    data = [title, reviews, today]\n",
    "\n",
    "    with open('AmazonWebScraperDataset.csv', 'a+', newline='', encoding='UTF8') as f:\n",
    "        writer = csv.writer(f)\n",
    "        writer.writerow(data)\n",
    " \n",
    "    "
   ]
  },
  {
   "cell_type": "code",
   "execution_count": null,
   "id": "460b0bed",
   "metadata": {},
   "outputs": [],
   "source": [
    "# Runs check_price after a set time and inputs data into your CSV\n",
    "\n",
    "while(True):\n",
    "    check_product()\n",
    "    time.sleep(86400) #in seconds"
   ]
  },
  {
   "cell_type": "code",
   "execution_count": null,
   "id": "129156ea",
   "metadata": {},
   "outputs": [],
   "source": [
    "import pandas as pd\n",
    "\n",
    "df = pd.read_csv(r'C:\\Users\\tkhir\\AmazonWebScraperDataset.csv')\n",
    "\n",
    "print(df)"
   ]
  },
  {
   "cell_type": "code",
   "execution_count": null,
   "id": "d9c2dd0b",
   "metadata": {},
   "outputs": [],
   "source": [
    "# sending yourself an email when a price hits below a certain level \n",
    "\n",
    "def send_mail():\n",
    "    server = smtplib.SMTP_SSL('smtp.gmail.com',465)\n",
    "    server.ehlo()\n",
    "    #server.starttls()\n",
    "    server.ehlo()\n",
    "    server.login('name.surname@gmail.com','xxxxxxxxxxxxxx') #your email\n",
    "    \n",
    "    subject = \"The product you want is below 50 euros!\"\n",
    "    body = \"Link here: https://www.amazon.de/Srhythm-NC35-Schnellladung-CVC8-0-Mikrofon-Sprachanruf-Minzgr%C3%BCn/dp/B083S87PZT/ref=sr_1_7_sspa?crid=22RTX1FIKH3RT&keywords=kopfh%C3%B6rer%2Bkabellos&qid=1644504213&sprefix=kopf%2Caps%2C158&sr=8-7-spons&spLa=ZW5jcnlwdGVkUXVhbGlmaWVyPUExWDU0N0xRQ0RBVk1ZJmVuY3J5cHRlZElkPUEwNTIzNTI5M0tSUTE2RFlYT1lQMSZlbmNyeXB0ZWRBZElkPUEwNjQwMTg4MlYyMldaRTQyNE5KRCZ3aWRnZXROYW1lPXNwX210ZiZhY3Rpb249Y2xpY2tSZWRpcmVjdCZkb05vdExvZ0NsaWNrPXRydWU&th=1\"\n",
    "    msg = f\"Subject: {subject}\\n\\n{body}\"\n",
    "    \n",
    "    server.sendmail(\n",
    "        'name.surname@gmail.com',\n",
    "        msg\n",
    "     \n",
    "    )\n",
    "    \n",
    "    # if (price < 50):\n",
    "    # send_mail()"
   ]
  },
  {
   "cell_type": "code",
   "execution_count": null,
   "id": "cdc2a50c",
   "metadata": {},
   "outputs": [],
   "source": []
  }
 ],
 "metadata": {
  "kernelspec": {
   "display_name": "Python 3 (ipykernel)",
   "language": "python",
   "name": "python3"
  },
  "language_info": {
   "codemirror_mode": {
    "name": "ipython",
    "version": 3
   },
   "file_extension": ".py",
   "mimetype": "text/x-python",
   "name": "python",
   "nbconvert_exporter": "python",
   "pygments_lexer": "ipython3",
   "version": "3.10.0"
  }
 },
 "nbformat": 4,
 "nbformat_minor": 5
}
